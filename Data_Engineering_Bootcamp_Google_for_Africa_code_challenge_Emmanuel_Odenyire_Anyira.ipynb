{
  "nbformat": 4,
  "nbformat_minor": 0,
  "metadata": {
    "colab": {
      "provenance": []
    },
    "kernelspec": {
      "name": "python3",
      "display_name": "Python 3"
    },
    "language_info": {
      "name": "python"
    }
  },
  "cells": [
    {
      "cell_type": "markdown",
      "source": [
        "# Data Bootcamp Selection Challenge\n",
        "\n",
        "## Project Description\n",
        "\n",
        "In this challenge, I am working with a car-based dataset to calculate various Key Performance Indicators (KPIs). Each question has a single correct answer, which will be evaluated through automated unit testing. The challenge includes questions related to data analysis, aggregation, and calculations.\n",
        "\n",
        "## Instructions\n",
        "\n",
        "1. **Dataset**: The dataset has already been provided. Do not perform any data cleaning or modifications to the dataset.\n",
        "\n",
        "2. **Answer Dictionary**: Use the provided answer dictionary to store your answers. Do not modify the structure of the answer dictionary. For each question, replace the value with your calculated answer.\n",
        "\n",
        "3. **Coding**: Solve each question by writing the necessary code using the given dataset. Use the examples and code snippets provided in the challenge description as references.\n",
        "\n",
        "4. **Saving Answers**: After solving all the questions and filling in the answer dictionary, save your answers in pickle format using the provided code.\n",
        "\n",
        "5. **GitHub Repository**: Upload your Jupyter notebook and the pickle file containing the answer dictionary to a public GitHub repository. Create a new repository if needed.\n",
        "\n",
        "6. **Submission**: Submit the URLs of both your Jupyter notebook and the pickle file through the provided Google form. Ensure that the URLs are accessible and correct.\n",
        "\n",
        "## My Task\n",
        "\n",
        "My task is to complete the coding challenges presented in this notebook. I am to follow the provided examples and guidelines to calculate the required KPIs and ensure that my answers are in the correct format as specified in each question.\n",
        "\n",
        "---\n",
        "\n",
        "**Note**: The unit tests provided at the end of this notebook will help us verify the correctness of our answers. However, they are not exhaustive, so make sure to review your answers carefully before submission.\n"
      ],
      "metadata": {
        "id": "uOl8IPey9y_5"
      }
    },
    {
      "cell_type": "code",
      "execution_count": 31,
      "metadata": {
        "id": "Wf8j5BhC4xeZ"
      },
      "outputs": [],
      "source": [
        "#Use this dictionary to store your answers in the correct format in the cells below , do not modify the keys\n",
        "answer_dict =  {\"Q1\" : None,\n",
        "                \"Q2\" : None,\n",
        "                \"Q3\" : None,\n",
        "                \"Q4\" : None,\n",
        "                \"Q5\" : None,\n",
        "                \"Q6\" : None,\n",
        "                \"Q7\" : None}"
      ]
    },
    {
      "cell_type": "markdown",
      "source": [
        "# Data Bootcamp Selection Challenge\n",
        "\n",
        "## Reading the Dataset\n",
        "\n",
        "In this challenge, you will work with a car-based dataset to calculate various Key Performance Indicators (KPIs). The dataset contains information about different car models, their attributes, and fuel efficiency metrics. You will use this dataset to answer specific questions related to the provided challenges.\n",
        "\n",
        "To get started, follow the instructions below to read the dataset into a DataFrame using the pandas library.\n",
        "\n",
        "### Instructions\n",
        "\n",
        "1. Import the required library, pandas.\n",
        "2. Specify the URL of the dataset.\n",
        "3. Read the dataset into a DataFrame using the `pd.read_csv()` function.\n",
        "4. Display the first few rows of the DataFrame to ensure successful loading.\n",
        "\n",
        "Remember, you can use any Python library to solve this challenge, but we recommend using pandas due to its ease of use and compatibility with the given dataset.\n",
        "\n",
        "Let's begin by reading the dataset and exploring the initial data.\n"
      ],
      "metadata": {
        "id": "Y4EzciNd-vLr"
      }
    },
    {
      "cell_type": "markdown",
      "source": [
        "# Data Bootcamp Selection Challenge\n",
        "\n",
        "## Reading the Dataset\n",
        "\n",
        "In this step, we will read the car-based dataset into a DataFrame using the pandas library. The dataset contains information about various car models, their attributes, and fuel efficiency metrics.\n",
        "\n",
        "We will use the following code to accomplish this:\n",
        "\n",
        "```python\n",
        "import pandas as pd\n",
        "import numpy as np\n",
        "\n",
        "# URL of the dataset\n",
        "url = \"https://storage.googleapis.com/deb-evaluation-materials/vehicles.csv\"\n",
        "\n",
        "# Read the dataset into a DataFrame using pandas\n",
        "df = pd.read_csv(url)\n"
      ],
      "metadata": {
        "id": "neNhpFkt_Pho"
      }
    },
    {
      "cell_type": "code",
      "source": [
        "import pandas as pd\n",
        "import numpy as np\n",
        "url = \"https://storage.googleapis.com/deb-evaluation-materials/vehicles.csv\"\n",
        "df = pd.read_csv(url)"
      ],
      "metadata": {
        "id": "e9Qzb4ww-37a"
      },
      "execution_count": 32,
      "outputs": []
    },
    {
      "cell_type": "markdown",
      "source": [
        "Let's execute the code and load the dataset for further analysis."
      ],
      "metadata": {
        "id": "BKp1Kfwa_TaI"
      }
    },
    {
      "cell_type": "markdown",
      "source": [
        "# Data Bootcamp Selection Challenge\n",
        "\n",
        "## Exploring the Initial Data\n",
        "\n",
        "After successfully reading the dataset into a DataFrame, let's take a look at the initial data. The `df.head()` function allows us to display the first few rows of the DataFrame to get a glimpse of the data's structure and content.\n",
        "\n",
        "Let's execute the code below to see the first few rows of the dataset:\n",
        "\n",
        "```python\n",
        "df.head()\n"
      ],
      "metadata": {
        "id": "pMswew8D_cDg"
      }
    },
    {
      "cell_type": "code",
      "source": [
        "df.head()"
      ],
      "metadata": {
        "colab": {
          "base_uri": "https://localhost:8080/",
          "height": 530
        },
        "id": "L3xPefeI_nhQ",
        "outputId": "5c0c606f-44c2-4eef-a724-cef55c19814e"
      },
      "execution_count": 33,
      "outputs": [
        {
          "output_type": "execute_result",
          "data": {
            "text/plain": [
              "               Make                Model  Year  Engine Displacement  \\\n",
              "0        AM General    DJ Po Vehicle 2WD  1984                  2.5   \n",
              "1        AM General     FJ8c Post Office  1984                  4.2   \n",
              "2        AM General  Post Office DJ5 2WD  1985                  2.5   \n",
              "3        AM General  Post Office DJ8 2WD  1985                  4.2   \n",
              "4  ASC Incorporated                  GNX  1987                  3.8   \n",
              "\n",
              "   Cylinders     Transmission        Drivetrain                Vehicle Class  \\\n",
              "0        4.0  Automatic 3-spd     2-Wheel Drive  Special Purpose Vehicle 2WD   \n",
              "1        6.0  Automatic 3-spd     2-Wheel Drive  Special Purpose Vehicle 2WD   \n",
              "2        4.0  Automatic 3-spd  Rear-Wheel Drive  Special Purpose Vehicle 2WD   \n",
              "3        6.0  Automatic 3-spd  Rear-Wheel Drive  Special Purpose Vehicle 2WD   \n",
              "4        6.0  Automatic 4-spd  Rear-Wheel Drive                 Midsize Cars   \n",
              "\n",
              "  Fuel Type  Fuel Barrels/Year  City MPG  Highway MPG  Combined MPG  \\\n",
              "0   Regular          19.388824        18           17            17   \n",
              "1   Regular          25.354615        13           13            13   \n",
              "2   Regular          20.600625        16           17            16   \n",
              "3   Regular          25.354615        13           13            13   \n",
              "4   Premium          20.600625        14           21            16   \n",
              "\n",
              "   CO2 Emission Grams/Mile  Fuel Cost/Year  \n",
              "0               522.764706            1950  \n",
              "1               683.615385            2550  \n",
              "2               555.437500            2100  \n",
              "3               683.615385            2550  \n",
              "4               555.437500            2550  "
            ],
            "text/html": [
              "\n",
              "\n",
              "  <div id=\"df-edaa7ba5-e7c9-4b8d-b27a-1ea12bb45e35\">\n",
              "    <div class=\"colab-df-container\">\n",
              "      <div>\n",
              "<style scoped>\n",
              "    .dataframe tbody tr th:only-of-type {\n",
              "        vertical-align: middle;\n",
              "    }\n",
              "\n",
              "    .dataframe tbody tr th {\n",
              "        vertical-align: top;\n",
              "    }\n",
              "\n",
              "    .dataframe thead th {\n",
              "        text-align: right;\n",
              "    }\n",
              "</style>\n",
              "<table border=\"1\" class=\"dataframe\">\n",
              "  <thead>\n",
              "    <tr style=\"text-align: right;\">\n",
              "      <th></th>\n",
              "      <th>Make</th>\n",
              "      <th>Model</th>\n",
              "      <th>Year</th>\n",
              "      <th>Engine Displacement</th>\n",
              "      <th>Cylinders</th>\n",
              "      <th>Transmission</th>\n",
              "      <th>Drivetrain</th>\n",
              "      <th>Vehicle Class</th>\n",
              "      <th>Fuel Type</th>\n",
              "      <th>Fuel Barrels/Year</th>\n",
              "      <th>City MPG</th>\n",
              "      <th>Highway MPG</th>\n",
              "      <th>Combined MPG</th>\n",
              "      <th>CO2 Emission Grams/Mile</th>\n",
              "      <th>Fuel Cost/Year</th>\n",
              "    </tr>\n",
              "  </thead>\n",
              "  <tbody>\n",
              "    <tr>\n",
              "      <th>0</th>\n",
              "      <td>AM General</td>\n",
              "      <td>DJ Po Vehicle 2WD</td>\n",
              "      <td>1984</td>\n",
              "      <td>2.5</td>\n",
              "      <td>4.0</td>\n",
              "      <td>Automatic 3-spd</td>\n",
              "      <td>2-Wheel Drive</td>\n",
              "      <td>Special Purpose Vehicle 2WD</td>\n",
              "      <td>Regular</td>\n",
              "      <td>19.388824</td>\n",
              "      <td>18</td>\n",
              "      <td>17</td>\n",
              "      <td>17</td>\n",
              "      <td>522.764706</td>\n",
              "      <td>1950</td>\n",
              "    </tr>\n",
              "    <tr>\n",
              "      <th>1</th>\n",
              "      <td>AM General</td>\n",
              "      <td>FJ8c Post Office</td>\n",
              "      <td>1984</td>\n",
              "      <td>4.2</td>\n",
              "      <td>6.0</td>\n",
              "      <td>Automatic 3-spd</td>\n",
              "      <td>2-Wheel Drive</td>\n",
              "      <td>Special Purpose Vehicle 2WD</td>\n",
              "      <td>Regular</td>\n",
              "      <td>25.354615</td>\n",
              "      <td>13</td>\n",
              "      <td>13</td>\n",
              "      <td>13</td>\n",
              "      <td>683.615385</td>\n",
              "      <td>2550</td>\n",
              "    </tr>\n",
              "    <tr>\n",
              "      <th>2</th>\n",
              "      <td>AM General</td>\n",
              "      <td>Post Office DJ5 2WD</td>\n",
              "      <td>1985</td>\n",
              "      <td>2.5</td>\n",
              "      <td>4.0</td>\n",
              "      <td>Automatic 3-spd</td>\n",
              "      <td>Rear-Wheel Drive</td>\n",
              "      <td>Special Purpose Vehicle 2WD</td>\n",
              "      <td>Regular</td>\n",
              "      <td>20.600625</td>\n",
              "      <td>16</td>\n",
              "      <td>17</td>\n",
              "      <td>16</td>\n",
              "      <td>555.437500</td>\n",
              "      <td>2100</td>\n",
              "    </tr>\n",
              "    <tr>\n",
              "      <th>3</th>\n",
              "      <td>AM General</td>\n",
              "      <td>Post Office DJ8 2WD</td>\n",
              "      <td>1985</td>\n",
              "      <td>4.2</td>\n",
              "      <td>6.0</td>\n",
              "      <td>Automatic 3-spd</td>\n",
              "      <td>Rear-Wheel Drive</td>\n",
              "      <td>Special Purpose Vehicle 2WD</td>\n",
              "      <td>Regular</td>\n",
              "      <td>25.354615</td>\n",
              "      <td>13</td>\n",
              "      <td>13</td>\n",
              "      <td>13</td>\n",
              "      <td>683.615385</td>\n",
              "      <td>2550</td>\n",
              "    </tr>\n",
              "    <tr>\n",
              "      <th>4</th>\n",
              "      <td>ASC Incorporated</td>\n",
              "      <td>GNX</td>\n",
              "      <td>1987</td>\n",
              "      <td>3.8</td>\n",
              "      <td>6.0</td>\n",
              "      <td>Automatic 4-spd</td>\n",
              "      <td>Rear-Wheel Drive</td>\n",
              "      <td>Midsize Cars</td>\n",
              "      <td>Premium</td>\n",
              "      <td>20.600625</td>\n",
              "      <td>14</td>\n",
              "      <td>21</td>\n",
              "      <td>16</td>\n",
              "      <td>555.437500</td>\n",
              "      <td>2550</td>\n",
              "    </tr>\n",
              "  </tbody>\n",
              "</table>\n",
              "</div>\n",
              "      <button class=\"colab-df-convert\" onclick=\"convertToInteractive('df-edaa7ba5-e7c9-4b8d-b27a-1ea12bb45e35')\"\n",
              "              title=\"Convert this dataframe to an interactive table.\"\n",
              "              style=\"display:none;\">\n",
              "\n",
              "  <svg xmlns=\"http://www.w3.org/2000/svg\" height=\"24px\"viewBox=\"0 0 24 24\"\n",
              "       width=\"24px\">\n",
              "    <path d=\"M0 0h24v24H0V0z\" fill=\"none\"/>\n",
              "    <path d=\"M18.56 5.44l.94 2.06.94-2.06 2.06-.94-2.06-.94-.94-2.06-.94 2.06-2.06.94zm-11 1L8.5 8.5l.94-2.06 2.06-.94-2.06-.94L8.5 2.5l-.94 2.06-2.06.94zm10 10l.94 2.06.94-2.06 2.06-.94-2.06-.94-.94-2.06-.94 2.06-2.06.94z\"/><path d=\"M17.41 7.96l-1.37-1.37c-.4-.4-.92-.59-1.43-.59-.52 0-1.04.2-1.43.59L10.3 9.45l-7.72 7.72c-.78.78-.78 2.05 0 2.83L4 21.41c.39.39.9.59 1.41.59.51 0 1.02-.2 1.41-.59l7.78-7.78 2.81-2.81c.8-.78.8-2.07 0-2.86zM5.41 20L4 18.59l7.72-7.72 1.47 1.35L5.41 20z\"/>\n",
              "  </svg>\n",
              "      </button>\n",
              "\n",
              "\n",
              "\n",
              "    <div id=\"df-9e27e9b2-f22d-4de2-8bfb-90fd3d264a24\">\n",
              "      <button class=\"colab-df-quickchart\" onclick=\"quickchart('df-9e27e9b2-f22d-4de2-8bfb-90fd3d264a24')\"\n",
              "              title=\"Suggest charts.\"\n",
              "              style=\"display:none;\">\n",
              "\n",
              "<svg xmlns=\"http://www.w3.org/2000/svg\" height=\"24px\"viewBox=\"0 0 24 24\"\n",
              "     width=\"24px\">\n",
              "    <g>\n",
              "        <path d=\"M19 3H5c-1.1 0-2 .9-2 2v14c0 1.1.9 2 2 2h14c1.1 0 2-.9 2-2V5c0-1.1-.9-2-2-2zM9 17H7v-7h2v7zm4 0h-2V7h2v10zm4 0h-2v-4h2v4z\"/>\n",
              "    </g>\n",
              "</svg>\n",
              "      </button>\n",
              "    </div>\n",
              "\n",
              "<style>\n",
              "  .colab-df-quickchart {\n",
              "    background-color: #E8F0FE;\n",
              "    border: none;\n",
              "    border-radius: 50%;\n",
              "    cursor: pointer;\n",
              "    display: none;\n",
              "    fill: #1967D2;\n",
              "    height: 32px;\n",
              "    padding: 0 0 0 0;\n",
              "    width: 32px;\n",
              "  }\n",
              "\n",
              "  .colab-df-quickchart:hover {\n",
              "    background-color: #E2EBFA;\n",
              "    box-shadow: 0px 1px 2px rgba(60, 64, 67, 0.3), 0px 1px 3px 1px rgba(60, 64, 67, 0.15);\n",
              "    fill: #174EA6;\n",
              "  }\n",
              "\n",
              "  [theme=dark] .colab-df-quickchart {\n",
              "    background-color: #3B4455;\n",
              "    fill: #D2E3FC;\n",
              "  }\n",
              "\n",
              "  [theme=dark] .colab-df-quickchart:hover {\n",
              "    background-color: #434B5C;\n",
              "    box-shadow: 0px 1px 3px 1px rgba(0, 0, 0, 0.15);\n",
              "    filter: drop-shadow(0px 1px 2px rgba(0, 0, 0, 0.3));\n",
              "    fill: #FFFFFF;\n",
              "  }\n",
              "</style>\n",
              "\n",
              "    <script>\n",
              "      async function quickchart(key) {\n",
              "        const containerElement = document.querySelector('#' + key);\n",
              "        const charts = await google.colab.kernel.invokeFunction(\n",
              "            'suggestCharts', [key], {});\n",
              "      }\n",
              "    </script>\n",
              "\n",
              "      <script>\n",
              "\n",
              "function displayQuickchartButton(domScope) {\n",
              "  let quickchartButtonEl =\n",
              "    domScope.querySelector('#df-9e27e9b2-f22d-4de2-8bfb-90fd3d264a24 button.colab-df-quickchart');\n",
              "  quickchartButtonEl.style.display =\n",
              "    google.colab.kernel.accessAllowed ? 'block' : 'none';\n",
              "}\n",
              "\n",
              "        displayQuickchartButton(document);\n",
              "      </script>\n",
              "      <style>\n",
              "    .colab-df-container {\n",
              "      display:flex;\n",
              "      flex-wrap:wrap;\n",
              "      gap: 12px;\n",
              "    }\n",
              "\n",
              "    .colab-df-convert {\n",
              "      background-color: #E8F0FE;\n",
              "      border: none;\n",
              "      border-radius: 50%;\n",
              "      cursor: pointer;\n",
              "      display: none;\n",
              "      fill: #1967D2;\n",
              "      height: 32px;\n",
              "      padding: 0 0 0 0;\n",
              "      width: 32px;\n",
              "    }\n",
              "\n",
              "    .colab-df-convert:hover {\n",
              "      background-color: #E2EBFA;\n",
              "      box-shadow: 0px 1px 2px rgba(60, 64, 67, 0.3), 0px 1px 3px 1px rgba(60, 64, 67, 0.15);\n",
              "      fill: #174EA6;\n",
              "    }\n",
              "\n",
              "    [theme=dark] .colab-df-convert {\n",
              "      background-color: #3B4455;\n",
              "      fill: #D2E3FC;\n",
              "    }\n",
              "\n",
              "    [theme=dark] .colab-df-convert:hover {\n",
              "      background-color: #434B5C;\n",
              "      box-shadow: 0px 1px 3px 1px rgba(0, 0, 0, 0.15);\n",
              "      filter: drop-shadow(0px 1px 2px rgba(0, 0, 0, 0.3));\n",
              "      fill: #FFFFFF;\n",
              "    }\n",
              "  </style>\n",
              "\n",
              "      <script>\n",
              "        const buttonEl =\n",
              "          document.querySelector('#df-edaa7ba5-e7c9-4b8d-b27a-1ea12bb45e35 button.colab-df-convert');\n",
              "        buttonEl.style.display =\n",
              "          google.colab.kernel.accessAllowed ? 'block' : 'none';\n",
              "\n",
              "        async function convertToInteractive(key) {\n",
              "          const element = document.querySelector('#df-edaa7ba5-e7c9-4b8d-b27a-1ea12bb45e35');\n",
              "          const dataTable =\n",
              "            await google.colab.kernel.invokeFunction('convertToInteractive',\n",
              "                                                     [key], {});\n",
              "          if (!dataTable) return;\n",
              "\n",
              "          const docLinkHtml = 'Like what you see? Visit the ' +\n",
              "            '<a target=\"_blank\" href=https://colab.research.google.com/notebooks/data_table.ipynb>data table notebook</a>'\n",
              "            + ' to learn more about interactive tables.';\n",
              "          element.innerHTML = '';\n",
              "          dataTable['output_type'] = 'display_data';\n",
              "          await google.colab.output.renderOutput(dataTable, element);\n",
              "          const docLink = document.createElement('div');\n",
              "          docLink.innerHTML = docLinkHtml;\n",
              "          element.appendChild(docLink);\n",
              "        }\n",
              "      </script>\n",
              "    </div>\n",
              "  </div>\n"
            ]
          },
          "metadata": {},
          "execution_count": 33
        }
      ]
    },
    {
      "cell_type": "markdown",
      "source": [
        "# Data Bootcamp Selection Challenge\n",
        "\n",
        "## Dataset Information\n",
        "\n",
        "Let's explore further details about the dataset using the `df.info()` function. This function provides information about the columns, non-null counts, and data types present in the DataFrame. The output below summarizes the dataset's structure:\n",
        "\n"
      ],
      "metadata": {
        "id": "vRMM794_AHBA"
      }
    },
    {
      "cell_type": "code",
      "source": [
        "df.info()"
      ],
      "metadata": {
        "colab": {
          "base_uri": "https://localhost:8080/"
        },
        "id": "TAyPzJDPAK2A",
        "outputId": "fbf1096b-a0bd-4ff9-f2e5-1b9cacc48fac"
      },
      "execution_count": 34,
      "outputs": [
        {
          "output_type": "stream",
          "name": "stdout",
          "text": [
            "<class 'pandas.core.frame.DataFrame'>\n",
            "RangeIndex: 35952 entries, 0 to 35951\n",
            "Data columns (total 15 columns):\n",
            " #   Column                   Non-Null Count  Dtype  \n",
            "---  ------                   --------------  -----  \n",
            " 0   Make                     35952 non-null  object \n",
            " 1   Model                    35952 non-null  object \n",
            " 2   Year                     35952 non-null  int64  \n",
            " 3   Engine Displacement      35952 non-null  float64\n",
            " 4   Cylinders                35952 non-null  float64\n",
            " 5   Transmission             35952 non-null  object \n",
            " 6   Drivetrain               35952 non-null  object \n",
            " 7   Vehicle Class            35952 non-null  object \n",
            " 8   Fuel Type                35952 non-null  object \n",
            " 9   Fuel Barrels/Year        35952 non-null  float64\n",
            " 10  City MPG                 35952 non-null  int64  \n",
            " 11  Highway MPG              35952 non-null  int64  \n",
            " 12  Combined MPG             35952 non-null  int64  \n",
            " 13  CO2 Emission Grams/Mile  35952 non-null  float64\n",
            " 14  Fuel Cost/Year           35952 non-null  int64  \n",
            "dtypes: float64(4), int64(5), object(6)\n",
            "memory usage: 4.1+ MB\n"
          ]
        }
      ]
    },
    {
      "cell_type": "markdown",
      "source": [
        "Q1. What is the average CO2 emmission per gram/mile of all Volkswagen cars?\n",
        "Format: A floating number\n",
        "Example answer:\n",
        "11.547"
      ],
      "metadata": {
        "id": "cj6_8F4qAfKY"
      }
    },
    {
      "cell_type": "code",
      "source": [
        "# Calculate the average CO2 emission per gram/mile of all Volkswagen cars\n",
        "average_co2_emission = df[df['Make'] == 'Volkswagen']['CO2 Emission Grams/Mile'].mean()\n",
        "\n",
        "# Update the answer dictionary with the calculated result\n",
        "answer_dict[\"Q1\"] = average_co2_emission\n",
        "\n",
        "# Print the calculated result\n",
        "print(\"Average CO2 emission per gram/mile of all Volkswagen cars:\", average_co2_emission)\n"
      ],
      "metadata": {
        "colab": {
          "base_uri": "https://localhost:8080/"
        },
        "id": "6N6nIDUAAp6Q",
        "outputId": "c5df5439-3aef-4530-e197-86fafa436242"
      },
      "execution_count": 35,
      "outputs": [
        {
          "output_type": "stream",
          "name": "stdout",
          "text": [
            "Average CO2 emission per gram/mile of all Volkswagen cars: 392.74172108576107\n"
          ]
        }
      ]
    },
    {
      "cell_type": "markdown",
      "source": [
        "Q2. Calculate the top 5 brands(Make) with the most unique models, order your answer in descending order with respect to the number of unique models.\n",
        "NOTE: Consider only the name of the models and their brand, that is use only the Make and Model columns\n",
        "Format: A 5X2 list with each row being the name of the brand followed by the unique number of models, in descending order.\n",
        "Hint: You can use the pandas df.values.tolist() function to format your answer.\n",
        "Example answer:\n",
        "[[\"Volkswagen\", 1000], [\"Toyota\", 900], [\"Honda\", 800], [\"Subaru\", 700], [\"Ford\", 600]]"
      ],
      "metadata": {
        "id": "7zKGEWB_BA73"
      }
    },
    {
      "cell_type": "code",
      "source": [
        "# Calculate the top 5 brands with the most unique models\n",
        "top_brands_unique_models = df.groupby('Make')['Model'].nunique().sort_values(ascending=False).head(5)\n",
        "\n",
        "# Convert the result to the required format\n",
        "top_brands_unique_models_list = top_brands_unique_models.reset_index().values.tolist()\n",
        "\n",
        "# Update the answer dictionary with the calculated result\n",
        "answer_dict[\"Q2\"] = top_brands_unique_models_list\n",
        "\n",
        "# Print the calculated result\n",
        "print(\"Top 5 brands with the most unique models:\")\n",
        "for brand, num_models in top_brands_unique_models_list:\n",
        "    print(brand, num_models)\n"
      ],
      "metadata": {
        "colab": {
          "base_uri": "https://localhost:8080/"
        },
        "id": "KKAbUXSBBCSI",
        "outputId": "08833cfc-97e3-4269-b542-94e160bf4200"
      },
      "execution_count": 36,
      "outputs": [
        {
          "output_type": "stream",
          "name": "stdout",
          "text": [
            "Top 5 brands with the most unique models:\n",
            "Mercedes-Benz 333\n",
            "BMW 284\n",
            "Chevrolet 253\n",
            "Ford 185\n",
            "GMC 163\n"
          ]
        }
      ]
    },
    {
      "cell_type": "markdown",
      "source": [
        "Q3. What are all the different types of fuels in the dataset sorted alphabetically?\n",
        "Format: A list of strings sorted alphabetically.\n",
        "Example Answer:\n",
        "['Regular', 'Premium']"
      ],
      "metadata": {
        "id": "xcIIcMs9BStA"
      }
    },
    {
      "cell_type": "code",
      "source": [
        "# Get the different types of fuels and sort them alphabetically\n",
        "fuel_types = sorted(df['Fuel Type'].unique())\n",
        "\n",
        "# Update the answer dictionary with the calculated result\n",
        "answer_dict[\"Q3\"] = fuel_types\n",
        "\n",
        "# Print the list of fuel types\n",
        "print(\"Different types of fuels sorted alphabetically:\")\n",
        "print(fuel_types)\n"
      ],
      "metadata": {
        "colab": {
          "base_uri": "https://localhost:8080/"
        },
        "id": "YnvnCcSIBUjY",
        "outputId": "33220383-6b13-4aa5-dcc3-d86080b591ce"
      },
      "execution_count": 37,
      "outputs": [
        {
          "output_type": "stream",
          "name": "stdout",
          "text": [
            "Different types of fuels sorted alphabetically:\n",
            "['CNG', 'Diesel', 'Gasoline or E85', 'Gasoline or natural gas', 'Gasoline or propane', 'Midgrade', 'Premium', 'Premium Gas or Electricity', 'Premium and Electricity', 'Premium or E85', 'Regular', 'Regular Gas and Electricity', 'Regular Gas or Electricity']\n"
          ]
        }
      ]
    },
    {
      "cell_type": "markdown",
      "source": [
        "Q4. Show the 9 Toyota cars with the most extreme Fuel Barrels/Year in abosolute terms within all Toyota cars. Show the car Model, Year and their Fuel Barrels/Year in standard deviation units(Z-score) sorted in descending order by their Fuel Barrels/Year in absolute terms first and then by year in descending order BUT without modifying the negative values (see example).\n",
        "Format: A 9X3 list with each row containing the Model, Year and Fuel Barrels/Year in standard deviations units\n",
        "Example answer:\n",
        "[['DJ Po Vehicle 2WD', 2004, -6.407431084026927],\n",
        " ['FJ8c Post Office', 2003, -6.407431084026927],\n",
        " ['Post Office DJ5 2WD', 2005, -6.391684618442447],\n",
        " ['Sierra 2500 Hd 2WD', 2002, -6.391684618442447],\n",
        " ['Camry CNG', 2012, 2.677633075759575],\n",
        " ['Sierra 1500 4WD', 2005, 2.677633075759575],\n",
        " ['Sierra 1500 4WD', 2001, 2.677633075759575],\n",
        " ['V15 Suburban 4WD', 1988, 2.677633075759575],\n",
        " ['V15 Suburban 4WD', 1987, 2.677633075759575]]\n",
        "Note that while the list is sorted by the Fuel Barrels/Year in absolute terms and in standard deviation units, the values are not modified. If the values are the same the rows are sorted by the year."
      ],
      "metadata": {
        "id": "UJrLgFkIBeJZ"
      }
    },
    {
      "cell_type": "code",
      "source": [
        "# Calculate Z-scores for Fuel Barrels/Year within Toyota cars\n",
        "toyota_cars = df[df['Make'] == 'Toyota']\n",
        "toyota_cars['Fuel Barrels/Year Z-score'] = (toyota_cars['Fuel Barrels/Year'] - toyota_cars['Fuel Barrels/Year'].mean()) / toyota_cars['Fuel Barrels/Year'].std()\n",
        "\n",
        "# Filter out negative Z-scores and sort by absolute value and year\n",
        "extreme_toyota_cars = toyota_cars[abs(toyota_cars['Fuel Barrels/Year Z-score']) > 0].sort_values(by=['Fuel Barrels/Year Z-score', 'Year'], ascending=[False, False])\n",
        "\n",
        "# Select the top 9 extreme Toyota cars\n",
        "top_extreme_toyota_cars = extreme_toyota_cars.head(9)[['Model', 'Year', 'Fuel Barrels/Year Z-score']].values.tolist()\n",
        "\n",
        "# Update the answer dictionary with the calculated result\n",
        "answer_dict[\"Q4\"] = top_extreme_toyota_cars\n",
        "\n",
        "# Print the list of extreme Toyota cars\n",
        "print(\"Top 9 Toyota cars with extreme Fuel Barrels/Year:\")\n",
        "for car in top_extreme_toyota_cars:\n",
        "    print(car)\n"
      ],
      "metadata": {
        "colab": {
          "base_uri": "https://localhost:8080/"
        },
        "id": "ZXARu93tBe9C",
        "outputId": "db36fdd4-e53f-431c-84f0-d25dea15ec72"
      },
      "execution_count": 38,
      "outputs": [
        {
          "output_type": "stream",
          "name": "stdout",
          "text": [
            "Top 9 Toyota cars with extreme Fuel Barrels/Year:\n",
            "['Cab/Chassis 2WD', 1993, 4.112255865424778]\n",
            "['Cab/Chassis 2WD', 1992, 4.112255865424778]\n",
            "['Cab/Chassis 2WD', 1991, 4.112255865424778]\n",
            "['Cab/Chassis 2WD', 1990, 4.112255865424778]\n",
            "['Cab/Chassis 2WD', 1989, 4.112255865424778]\n",
            "['Cab/Chassis 2WD', 1993, 3.3791118637260777]\n",
            "['Cab/Chassis 2WD', 1992, 3.3791118637260777]\n",
            "['Land Cruiser Wagon 4WD', 1992, 3.3791118637260777]\n",
            "['Cab/Chassis 2WD', 1991, 3.3791118637260777]\n"
          ]
        },
        {
          "output_type": "stream",
          "name": "stderr",
          "text": [
            "<ipython-input-38-fe2ee50338a4>:3: SettingWithCopyWarning: \n",
            "A value is trying to be set on a copy of a slice from a DataFrame.\n",
            "Try using .loc[row_indexer,col_indexer] = value instead\n",
            "\n",
            "See the caveats in the documentation: https://pandas.pydata.org/pandas-docs/stable/user_guide/indexing.html#returning-a-view-versus-a-copy\n",
            "  toyota_cars['Fuel Barrels/Year Z-score'] = (toyota_cars['Fuel Barrels/Year'] - toyota_cars['Fuel Barrels/Year'].mean()) / toyota_cars['Fuel Barrels/Year'].std()\n"
          ]
        }
      ]
    },
    {
      "cell_type": "markdown",
      "source": [
        "Q5. Calculate the changes in Combined MPG with their previous model of all Golf cars with Manual 5-spd transmission and Regular Fuel Type. Show the Year, the Combined MPG and the calculated difference of MPG in a list sorted by Year in ascending order.\n",
        "Format: A 19X3 list, with the Year and Combined MPG being of type integer and only the calculated difference is of type float\n",
        "Note: The value for the first model should be 0. It does not matter that there are gaps in the years, calculate with respect the previous model.\n",
        "Example answer:\n",
        "[[1986, 25, 0.0],\n",
        " [1987, 25, 0.0],\n",
        " [1988, 25, 0.0],\n",
        " [1989, 25, 0.0],\n",
        " [1990, 23, -2.0],\n",
        " [1991, 23, 0.0],\n",
        " [1992, 24, 1.0],\n",
        " [1993, 25, 1.0],\n",
        " [1994, 25, 0.0],\n",
        " [1995, 25, 0.0],\n",
        " [1996, 25, 0.0],\n",
        " [1997, 25, 0.0],\n",
        " [1998, 24, -1.0],\n",
        " [1999, 25, 1.0],\n",
        " [2000, 24, -1.0],\n",
        " [2001, 24, 0.0],\n",
        " [2002, 24, 0.0],\n",
        " [2004, 24, 0.0],\n",
        " [2006, 24, 0.0]]"
      ],
      "metadata": {
        "id": "gvzfadZsBsS4"
      }
    },
    {
      "cell_type": "code",
      "source": [
        "# Filter the data for Golf cars with Manual 5-spd transmission and Regular Fuel Type\n",
        "golf_cars = df[(df['Make'] == 'Volkswagen') & (df['Model'].str.contains('Golf')) & (df['Transmission'] == 'Manual 5-spd') & (df['Fuel Type'] == 'Regular')]\n",
        "\n",
        "# Calculate the changes in Combined MPG with the previous model\n",
        "golf_cars['Change in Combined MPG'] = golf_cars['Combined MPG'].diff().fillna(0)\n",
        "\n",
        "# Select the relevant columns and sort by Year\n",
        "result_q5 = golf_cars[['Year', 'Combined MPG', 'Change in Combined MPG']].values.tolist()\n",
        "result_q5.sort()\n",
        "\n",
        "# Update the answer dictionary with the calculated result\n",
        "answer_dict[\"Q5\"] = result_q5\n",
        "\n",
        "# Print the list of changes in Combined MPG for Golf cars\n",
        "print(\"Changes in Combined MPG for Golf cars:\")\n",
        "for entry in result_q5:\n",
        "    print(entry)\n"
      ],
      "metadata": {
        "colab": {
          "base_uri": "https://localhost:8080/"
        },
        "id": "6ENh--vKBtFB",
        "outputId": "f5b92bea-73d8-4810-90ba-79b48913423c"
      },
      "execution_count": 39,
      "outputs": [
        {
          "output_type": "stream",
          "name": "stdout",
          "text": [
            "Changes in Combined MPG for Golf cars:\n",
            "[1985.0, 25.0, -3.0]\n",
            "[1985.0, 26.0, 1.0]\n",
            "[1986.0, 26.0, 1.0]\n",
            "[1987.0, 25.0, 0.0]\n",
            "[1987.0, 26.0, 0.0]\n",
            "[1988.0, 25.0, -1.0]\n",
            "[1989.0, 25.0, 0.0]\n",
            "[1990.0, 25.0, -1.0]\n",
            "[1991.0, 25.0, 0.0]\n",
            "[1992.0, 25.0, 0.0]\n",
            "[1993.0, 24.0, 0.0]\n",
            "[1994.0, 24.0, -5.0]\n",
            "[1995.0, 24.0, 0.0]\n",
            "[1996.0, 23.0, -2.0]\n",
            "[1997.0, 24.0, 1.0]\n",
            "[1998.0, 24.0, 0.0]\n",
            "[1999.0, 24.0, -1.0]\n",
            "[1999.0, 24.0, 0.0]\n",
            "[2000.0, 24.0, 0.0]\n",
            "[2001.0, 24.0, 0.0]\n",
            "[2002.0, 24.0, 0.0]\n",
            "[2003.0, 24.0, 0.0]\n",
            "[2004.0, 24.0, 0.0]\n",
            "[2005.0, 24.0, 0.0]\n",
            "[2006.0, 24.0, 0.0]\n",
            "[2010.0, 25.0, 1.0]\n",
            "[2011.0, 26.0, 1.0]\n",
            "[2012.0, 26.0, 0.0]\n",
            "[2013.0, 26.0, 0.0]\n",
            "[2015.0, 29.0, 5.0]\n",
            "[2015.0, 30.0, 4.0]\n",
            "[2016.0, 29.0, 0.0]\n",
            "[2016.0, 30.0, 0.0]\n",
            "[2017.0, 28.0, -1.0]\n",
            "[2017.0, 29.0, -1.0]\n"
          ]
        },
        {
          "output_type": "stream",
          "name": "stderr",
          "text": [
            "<ipython-input-39-17cc75d7e3d9>:5: SettingWithCopyWarning: \n",
            "A value is trying to be set on a copy of a slice from a DataFrame.\n",
            "Try using .loc[row_indexer,col_indexer] = value instead\n",
            "\n",
            "See the caveats in the documentation: https://pandas.pydata.org/pandas-docs/stable/user_guide/indexing.html#returning-a-view-versus-a-copy\n",
            "  golf_cars['Change in Combined MPG'] = golf_cars['Combined MPG'].diff().fillna(0)\n"
          ]
        }
      ]
    },
    {
      "cell_type": "markdown",
      "source": [
        "Q6. What are the top 5 lowest CO2 Emission Grams/Mile emmisions of cars for each of the following brands: Toyota, Ford, Volkswagen, Nissan, Honda\n",
        "Format: A 5X6 list with the first element of each row being the Make of the cars and the following five values being floats sorted in ascending order. The Makes should appear in order listed in the question starting with Toyota and ending with Honda (see example).\n",
        "Example answer:\n",
        "[['Toyota', 100.0, 140.0, 140.0, 150.0, 150.0],\n",
        " ['Ford',\n",
        "  100.025641025641,\n",
        "  200.677633075759575,\n",
        "  200.677633075759575,\n",
        "  200.677633075759575,\n",
        "  200.677633075759575],\n",
        " ['Volkswagen', 139.0, 154.0, 166.5, 166.5, 166.5],\n",
        " ['Nissan', 122.0, 122.0, 122.0, 122.0, 160.0],\n",
        " ['Honda', 100.0, 100.0, 100.0, 100.0, 123.91684618442447]]"
      ],
      "metadata": {
        "id": "pTTZB9o6ByFh"
      }
    },
    {
      "cell_type": "code",
      "source": [
        "# List of specified brands\n",
        "brands = ['Toyota', 'Ford', 'Volkswagen', 'Nissan', 'Honda']\n",
        "\n",
        "# Initialize an empty list to store the results\n",
        "result_q6 = []\n",
        "\n",
        "# Iterate through each brand and calculate the top 5 lowest CO2 Emission Grams/Mile emissions\n",
        "for brand in brands:\n",
        "    # Filter the data for the current brand\n",
        "    brand_data = df[df['Make'] == brand]\n",
        "\n",
        "    # Sort the data by CO2 Emission Grams/Mile in ascending order\n",
        "    brand_data_sorted = brand_data.sort_values(by='CO2 Emission Grams/Mile')\n",
        "\n",
        "    # Select the top 5 lowest emissions and add them to the result list\n",
        "    lowest_emissions = brand_data_sorted[['CO2 Emission Grams/Mile']].head(5).values.tolist()\n",
        "    lowest_emissions.insert(0, brand)  # Add the brand name at the beginning\n",
        "    result_q6.append(lowest_emissions)\n",
        "\n",
        "# Update the answer dictionary with the calculated result\n",
        "answer_dict[\"Q6\"] = result_q6\n",
        "\n",
        "# Print the list of top 5 lowest emissions for each brand\n",
        "print(\"Top 5 lowest CO2 Emission Grams/Mile emissions for each brand:\")\n",
        "for entry in result_q6:\n",
        "    print(entry)\n"
      ],
      "metadata": {
        "colab": {
          "base_uri": "https://localhost:8080/"
        },
        "id": "cH5y3pQXB4P3",
        "outputId": "031e9028-b4b4-4eaf-9507-6ea6e57735ef"
      },
      "execution_count": 40,
      "outputs": [
        {
          "output_type": "stream",
          "name": "stdout",
          "text": [
            "Top 5 lowest CO2 Emission Grams/Mile emissions for each brand:\n",
            "['Toyota', [133.0], [133.0], [133.0], [133.0], [158.0]]\n",
            "['Ford', [112.0], [129.0], [129.0], [129.0], [129.0]]\n",
            "['Volkswagen', [200.0], [200.0], [200.0], [200.0], [261.025641025641]]\n",
            "['Nissan', [249.0], [254.0], [254.5], [254.5], [254.5]]\n",
            "['Honda', [130.0], [167.67924528301887], [167.67924528301887], [167.67924528301887], [167.67924528301887]]\n"
          ]
        }
      ]
    },
    {
      "cell_type": "markdown",
      "source": [
        "Q7. Form 7 groups of 5 years to calculated the median Combined MPG of each group. The first group is from 1984 to 1988, the second from 1989 to 1993 and so on. The last group will have years not appearing in the dataset.\n",
        "Note: The groups ranges are inclusive on both sides, the first group starts with 1984 and cars from 1984 are included in it.\n",
        "Format : A 7X2 list with the first element of each row being a tuple of two integers being the lower and uppper range of the year groups and the esecond element being the median Combined MPG of that group, a float number.\n",
        "Example answer:\n",
        "[[(1984, 1988), 11.0],\n",
        " [(1989, 1993), 10.0],\n",
        " [(1994, 1998), 10.0],\n",
        " [(1999, 2003), 14.0],\n",
        " [(2004, 2008), 13.0],\n",
        " [(2009, 2013), 14.0],\n",
        " [(2014, 2018), 15.0]]"
      ],
      "metadata": {
        "id": "Mg4I1kj6B9Ig"
      }
    },
    {
      "cell_type": "code",
      "source": [
        "# # Calculate the median Combined MPG for each group of 5 years\n",
        "# result_q7 = []\n",
        "# for start_year in range(1984, 2023, 5):\n",
        "#     end_year = start_year + 4\n",
        "#     group_data = df[(df['Year'] >= start_year) & (df['Year'] <= end_year)]\n",
        "#     median_mpg = group_data['Combined MPG'].median()\n",
        "#     result_q7.append([(start_year, end_year), median_mpg])\n",
        "\n",
        "# # Update the answer dictionary with the calculated result\n",
        "# answer_dict[\"Q7\"] = result_q7\n",
        "\n",
        "# # Print the list of tuples containing year groups and their corresponding median Combined MPG\n",
        "# print(\"Median Combined MPG for each group of 5 years:\")\n",
        "# for entry in result_q7:\n",
        "#     print(entry)\n",
        "\n",
        "\n",
        "# Calculate the median Combined MPG for each group of 5 years\n",
        "result_q7 = []\n",
        "for start_year in range(1984, 2023, 5):\n",
        "    end_year = start_year + 4\n",
        "    group_data = df[(df['Year'] >= start_year) & (df['Year'] <= end_year)]\n",
        "    median_mpg = group_data['Combined MPG'].median()\n",
        "    result_q7.append([(start_year, end_year), float(median_mpg)])  # Convert median_mpg to float\n",
        "\n",
        "# Update the answer dictionary with the calculated result\n",
        "answer_dict[\"Q7\"] = result_q7\n",
        "\n"
      ],
      "metadata": {
        "id": "6BBNC0B1CETo"
      },
      "execution_count": 41,
      "outputs": []
    },
    {
      "cell_type": "markdown",
      "source": [
        "Conversion of data types to conform to the set data types in the test cases\n",
        "\n",
        "> I have tried all the ways possible to conform to the set data types, but I am still failing 4 test cases\n",
        "\n"
      ],
      "metadata": {
        "id": "R5AQIBYgDqv4"
      }
    },
    {
      "cell_type": "code",
      "source": [
        "# Convert answer_dict values to correct data types\n",
        "answer_dict[\"Q1\"] = float(answer_dict[\"Q1\"])\n",
        "\n",
        "answer_dict[\"Q2\"] = [\n",
        "    [str(entry[0]), int(entry[1])]\n",
        "    for entry in answer_dict[\"Q2\"]\n",
        "]\n",
        "\n",
        "answer_dict[\"Q3\"] = sorted([str(fuel_type) for fuel_type in answer_dict[\"Q3\"]])\n",
        "\n",
        "answer_dict[\"Q4\"] = [\n",
        "    [str(entry[0]), int(entry[1]), float(entry[2])]\n",
        "    for entry in answer_dict[\"Q4\"]\n",
        "]\n",
        "\n",
        "answer_dict[\"Q5\"] = [\n",
        "    [int(entry[0]), int(entry[1]), float(entry[2])]\n",
        "    for entry in answer_dict[\"Q5\"]\n",
        "]\n",
        "\n",
        "answer_dict[\"Q6\"] = [\n",
        "    entry\n",
        "    for entry in answer_dict[\"Q6\"]\n",
        "]\n",
        "\n",
        "answer_dict[\"Q7\"] = [\n",
        "    [(int(entry[0][0]), int(entry[0][1])), float(entry[1])]\n",
        "    for entry in answer_dict[\"Q7\"]\n",
        "]\n"
      ],
      "metadata": {
        "id": "TphqHhGFDuSY"
      },
      "execution_count": 42,
      "outputs": []
    },
    {
      "cell_type": "markdown",
      "source": [
        "Test your answers\n",
        "\n",
        "\n",
        "> We provide you some tests to make sure your answer dictionary is in the correct format using unittest.\n",
        "\n",
        "> These tests are not meant to be comprehensive, you should review all your answers carefully."
      ],
      "metadata": {
        "id": "Zyw91O3NChLA"
      }
    },
    {
      "cell_type": "markdown",
      "source": [
        "# Test Your Answers\n",
        "\n",
        "To ensure that your answer dictionary is in the correct format, we will run a series of tests using the `unittest` framework. These tests are designed to check if your answers are structured as expected. Please review your answers and ensure that they match the required formats for each question.\n",
        "\n",
        "**Note:** Passing these tests does not guarantee the correctness of your answers, but it does verify that your answers are in the expected format.\n",
        "\n",
        "Below are the tests that will be run:\n",
        "\n",
        "1. Check if `answer_dict` is a dictionary.\n",
        "2. Check if the keys in `answer_dict` match the expected keys for each question.\n",
        "3. Check if the values in `answer_dict` have the correct data types for each question.\n",
        "4. Check specific data types and shapes for each question's answer.\n",
        "\n",
        "Please make sure to run the test cells below to validate your answers.\n"
      ],
      "metadata": {
        "id": "AkiOpFimCkgo"
      }
    },
    {
      "cell_type": "code",
      "source": [
        "import unittest\n",
        "\n",
        "class TestAnswers(unittest.TestCase):\n",
        "    def test_if_dict(self):\n",
        "        self.assertIsInstance(answer_dict, dict)\n",
        "\n",
        "    def test_keys(self):\n",
        "        self.assertEqual(list(answer_dict.keys()), ['Q1', 'Q2', 'Q3', 'Q4', 'Q5', 'Q6', 'Q7'])\n",
        "\n",
        "    def test_answers_types(self):\n",
        "        types_values = [type(k) for k in answer_dict.values()]\n",
        "        answer_types = [float, list, list, list, list, list, list]\n",
        "        self.assertEqual(types_values, answer_types)\n",
        "\n",
        "    def test_Q1(self):\n",
        "        self.assertEqual(type(answer_dict['Q1']), float)\n",
        "\n",
        "    def test_Q2_dim(self):\n",
        "        self.assertEqual(np.array(answer_dict['Q2']).shape, (5,2))\n",
        "\n",
        "    def test_Q2_types(self):\n",
        "        dtype1 = type(answer_dict['Q2'][0][0])\n",
        "        dtype2 = type(answer_dict['Q2'][0][1])\n",
        "        self.assertEqual([dtype1, dtype2], [str, int])\n",
        "\n",
        "    def test_Q3_types(self):\n",
        "        q3_types = set([type(item) for item in answer_dict['Q3']])\n",
        "        self.assertEqual(q3_types, {str})\n",
        "\n",
        "    def test_Q4_dim(self):\n",
        "        self.assertEqual(np.array(answer_dict['Q4']).shape, (9,3))\n",
        "\n",
        "    def test_Q4_types(self):\n",
        "        dtype1 = type(answer_dict['Q4'][0][0])\n",
        "        dtype2 = type(answer_dict['Q4'][0][1])\n",
        "        dtype3 = type(answer_dict['Q4'][0][2])\n",
        "        self.assertEqual([dtype1, dtype2, dtype3], [str, int, float])\n",
        "\n",
        "    def test_Q5_dim(self):\n",
        "        self.assertEqual(np.array(answer_dict['Q5']).shape, (19,3))\n",
        "\n",
        "    def test_Q5_types(self):\n",
        "        dtype1 = type(answer_dict['Q5'][0][0])\n",
        "        dtype2 = type(answer_dict['Q5'][0][1])\n",
        "        dtype3 = type(answer_dict['Q5'][0][2])\n",
        "        self.assertEqual([dtype1, dtype2, dtype3], [int, int, float])\n",
        "\n",
        "    def test_Q5_first_zero(self):\n",
        "        self.assertEqual(answer_dict['Q5'][0][2], 0)\n",
        "\n",
        "\n",
        "    def test_Q6_dim(self):\n",
        "        self.assertEqual(np.array(answer_dict['Q6']).shape, (5,6))\n",
        "\n",
        "    def test_Q5_types(self):\n",
        "        dtype1 = type(answer_dict['Q6'][0][0])\n",
        "        dtype2 = type(answer_dict['Q6'][0][1])\n",
        "        dtype3 = type(answer_dict['Q6'][0][2])\n",
        "        dtype4 = type(answer_dict['Q6'][0][3])\n",
        "        dtype5 = type(answer_dict['Q6'][0][4])\n",
        "        dtype6 = type(answer_dict['Q6'][0][5])\n",
        "        self.assertEqual([dtype1, dtype2, dtype3, dtype4, dtype5, dtype6], [str, float, float, float, float, float])\n",
        "\n",
        "    def test_Q6_check_first_and_last_brand(self):\n",
        "        first_brand = answer_dict['Q6'][0][0]\n",
        "        last_brand = answer_dict['Q6'][4][0]\n",
        "\n",
        "        self.assertEqual([first_brand, last_brand], [\"Toyota\", \"Honda\"])\n",
        "\n",
        "    def test_Q7_dim(self):\n",
        "        self.assertEqual(np.array(answer_dict['Q7'], dtype=object).shape, (7,2))\n",
        "\n",
        "    def test_Q7_types(self):\n",
        "        dtype1 = type(answer_dict['Q7'][0][0])\n",
        "        dtype2 = type(answer_dict['Q7'][0][1])\n",
        "        self.assertEqual([dtype1, dtype2], [tuple, float])\n",
        "\n",
        "unittest.main(argv=[''], verbosity=2, exit=False)"
      ],
      "metadata": {
        "colab": {
          "base_uri": "https://localhost:8080/"
        },
        "id": "TFeiUMKGCroJ",
        "outputId": "f6bfe91c-2f55-4859-dfe6-d0b2be72a685"
      },
      "execution_count": 43,
      "outputs": [
        {
          "output_type": "stream",
          "name": "stderr",
          "text": [
            "test_Q1 (__main__.TestAnswers) ... ok\n",
            "test_Q2_dim (__main__.TestAnswers) ... ok\n",
            "test_Q2_types (__main__.TestAnswers) ... ok\n",
            "test_Q3_types (__main__.TestAnswers) ... ok\n",
            "test_Q4_dim (__main__.TestAnswers) ... ok\n",
            "test_Q4_types (__main__.TestAnswers) ... ok\n",
            "test_Q5_dim (__main__.TestAnswers) ... FAIL\n",
            "test_Q5_first_zero (__main__.TestAnswers) ... FAIL\n",
            "test_Q5_types (__main__.TestAnswers) ... FAIL\n",
            "test_Q6_check_first_and_last_brand (__main__.TestAnswers) ... ok\n",
            "test_Q6_dim (__main__.TestAnswers) ... <ipython-input-43-ea466fca2033>:53: VisibleDeprecationWarning: Creating an ndarray from ragged nested sequences (which is a list-or-tuple of lists-or-tuples-or ndarrays with different lengths or shapes) is deprecated. If you meant to do this, you must specify 'dtype=object' when creating the ndarray.\n",
            "  self.assertEqual(np.array(answer_dict['Q6']).shape, (5,6))\n",
            "ok\n",
            "test_Q7_dim (__main__.TestAnswers) ... FAIL\n",
            "test_Q7_types (__main__.TestAnswers) ... ok\n",
            "test_answers_types (__main__.TestAnswers) ... ok\n",
            "test_if_dict (__main__.TestAnswers) ... ok\n",
            "test_keys (__main__.TestAnswers) ... ok\n",
            "\n",
            "======================================================================\n",
            "FAIL: test_Q5_dim (__main__.TestAnswers)\n",
            "----------------------------------------------------------------------\n",
            "Traceback (most recent call last):\n",
            "  File \"<ipython-input-43-ea466fca2033>\", line 40, in test_Q5_dim\n",
            "    self.assertEqual(np.array(answer_dict['Q5']).shape, (19,3))\n",
            "AssertionError: Tuples differ: (35, 3) != (19, 3)\n",
            "\n",
            "First differing element 0:\n",
            "35\n",
            "19\n",
            "\n",
            "- (35, 3)\n",
            "+ (19, 3)\n",
            "\n",
            "======================================================================\n",
            "FAIL: test_Q5_first_zero (__main__.TestAnswers)\n",
            "----------------------------------------------------------------------\n",
            "Traceback (most recent call last):\n",
            "  File \"<ipython-input-43-ea466fca2033>\", line 49, in test_Q5_first_zero\n",
            "    self.assertEqual(answer_dict['Q5'][0][2], 0)\n",
            "AssertionError: -3.0 != 0\n",
            "\n",
            "======================================================================\n",
            "FAIL: test_Q5_types (__main__.TestAnswers)\n",
            "----------------------------------------------------------------------\n",
            "Traceback (most recent call last):\n",
            "  File \"<ipython-input-43-ea466fca2033>\", line 62, in test_Q5_types\n",
            "    self.assertEqual([dtype1, dtype2, dtype3, dtype4, dtype5, dtype6], [str, float, float, float, float, float])\n",
            "AssertionError: Lists differ: [<cla[14 chars]ass 'list'>, <class 'list'>, <class 'list'>, <[25 chars]st'>] != [<cla[14 chars]ass 'float'>, <class 'float'>, <class 'float'>[30 chars]at'>]\n",
            "\n",
            "First differing element 1:\n",
            "<class 'list'>\n",
            "<class 'float'>\n",
            "\n",
            "  [<class 'str'>,\n",
            "-  <class 'list'>,\n",
            "?           ^^\n",
            "\n",
            "+  <class 'float'>,\n",
            "?          + ^^\n",
            "\n",
            "-  <class 'list'>,\n",
            "?           ^^\n",
            "\n",
            "+  <class 'float'>,\n",
            "?          + ^^\n",
            "\n",
            "-  <class 'list'>,\n",
            "?           ^^\n",
            "\n",
            "+  <class 'float'>,\n",
            "?          + ^^\n",
            "\n",
            "-  <class 'list'>,\n",
            "?           ^^\n",
            "\n",
            "+  <class 'float'>,\n",
            "?          + ^^\n",
            "\n",
            "-  <class 'list'>]\n",
            "?           ^^\n",
            "\n",
            "+  <class 'float'>]\n",
            "?          + ^^\n",
            "\n",
            "\n",
            "======================================================================\n",
            "FAIL: test_Q7_dim (__main__.TestAnswers)\n",
            "----------------------------------------------------------------------\n",
            "Traceback (most recent call last):\n",
            "  File \"<ipython-input-43-ea466fca2033>\", line 71, in test_Q7_dim\n",
            "    self.assertEqual(np.array(answer_dict['Q7'], dtype=object).shape, (7,2))\n",
            "AssertionError: Tuples differ: (8, 2) != (7, 2)\n",
            "\n",
            "First differing element 0:\n",
            "8\n",
            "7\n",
            "\n",
            "- (8, 2)\n",
            "?  ^\n",
            "\n",
            "+ (7, 2)\n",
            "?  ^\n",
            "\n",
            "\n",
            "----------------------------------------------------------------------\n",
            "Ran 16 tests in 0.046s\n",
            "\n",
            "FAILED (failures=4)\n"
          ]
        },
        {
          "output_type": "execute_result",
          "data": {
            "text/plain": [
              "<unittest.main.TestProgram at 0x7ba2f59ba200>"
            ]
          },
          "metadata": {},
          "execution_count": 43
        }
      ]
    },
    {
      "cell_type": "markdown",
      "source": [
        "Save your answers\n",
        "> First, take a moment to evaluate your answers and make sure you have not missed anything\n",
        "> Use the following code to save your answers in pickle format, change the filename using the following format:\n",
        "\n",
        "FIRSTNAME_LASTNAME_answers.pkl\n",
        "Example: Juan_Perez_answers.pkl\n",
        "If you are using google colab you can find your file on the left side bar by clicking the folder icon inside the sample_data folder. Remember to upload the pickle file and the notebook to github and submit their URLs to the google form."
      ],
      "metadata": {
        "id": "ksTecIEeILkg"
      }
    },
    {
      "cell_type": "code",
      "source": [
        "answer_dict"
      ],
      "metadata": {
        "colab": {
          "base_uri": "https://localhost:8080/"
        },
        "id": "_qkszPzNIMrI",
        "outputId": "b6037ab4-aa67-43d7-e3d0-c8cf61ba3370"
      },
      "execution_count": 45,
      "outputs": [
        {
          "output_type": "execute_result",
          "data": {
            "text/plain": [
              "{'Q1': 392.74172108576107,\n",
              " 'Q2': [['Mercedes-Benz', 333],\n",
              "  ['BMW', 284],\n",
              "  ['Chevrolet', 253],\n",
              "  ['Ford', 185],\n",
              "  ['GMC', 163]],\n",
              " 'Q3': ['CNG',\n",
              "  'Diesel',\n",
              "  'Gasoline or E85',\n",
              "  'Gasoline or natural gas',\n",
              "  'Gasoline or propane',\n",
              "  'Midgrade',\n",
              "  'Premium',\n",
              "  'Premium Gas or Electricity',\n",
              "  'Premium and Electricity',\n",
              "  'Premium or E85',\n",
              "  'Regular',\n",
              "  'Regular Gas and Electricity',\n",
              "  'Regular Gas or Electricity'],\n",
              " 'Q4': [['Cab/Chassis 2WD', 1993, 4.112255865424778],\n",
              "  ['Cab/Chassis 2WD', 1992, 4.112255865424778],\n",
              "  ['Cab/Chassis 2WD', 1991, 4.112255865424778],\n",
              "  ['Cab/Chassis 2WD', 1990, 4.112255865424778],\n",
              "  ['Cab/Chassis 2WD', 1989, 4.112255865424778],\n",
              "  ['Cab/Chassis 2WD', 1993, 3.3791118637260777],\n",
              "  ['Cab/Chassis 2WD', 1992, 3.3791118637260777],\n",
              "  ['Land Cruiser Wagon 4WD', 1992, 3.3791118637260777],\n",
              "  ['Cab/Chassis 2WD', 1991, 3.3791118637260777]],\n",
              " 'Q5': [[1985, 25, -3.0],\n",
              "  [1985, 26, 1.0],\n",
              "  [1986, 26, 1.0],\n",
              "  [1987, 25, 0.0],\n",
              "  [1987, 26, 0.0],\n",
              "  [1988, 25, -1.0],\n",
              "  [1989, 25, 0.0],\n",
              "  [1990, 25, -1.0],\n",
              "  [1991, 25, 0.0],\n",
              "  [1992, 25, 0.0],\n",
              "  [1993, 24, 0.0],\n",
              "  [1994, 24, -5.0],\n",
              "  [1995, 24, 0.0],\n",
              "  [1996, 23, -2.0],\n",
              "  [1997, 24, 1.0],\n",
              "  [1998, 24, 0.0],\n",
              "  [1999, 24, -1.0],\n",
              "  [1999, 24, 0.0],\n",
              "  [2000, 24, 0.0],\n",
              "  [2001, 24, 0.0],\n",
              "  [2002, 24, 0.0],\n",
              "  [2003, 24, 0.0],\n",
              "  [2004, 24, 0.0],\n",
              "  [2005, 24, 0.0],\n",
              "  [2006, 24, 0.0],\n",
              "  [2010, 25, 1.0],\n",
              "  [2011, 26, 1.0],\n",
              "  [2012, 26, 0.0],\n",
              "  [2013, 26, 0.0],\n",
              "  [2015, 29, 5.0],\n",
              "  [2015, 30, 4.0],\n",
              "  [2016, 29, 0.0],\n",
              "  [2016, 30, 0.0],\n",
              "  [2017, 28, -1.0],\n",
              "  [2017, 29, -1.0]],\n",
              " 'Q6': [['Toyota', [133.0], [133.0], [133.0], [133.0], [158.0]],\n",
              "  ['Ford', [112.0], [129.0], [129.0], [129.0], [129.0]],\n",
              "  ['Volkswagen', [200.0], [200.0], [200.0], [200.0], [261.025641025641]],\n",
              "  ['Nissan', [249.0], [254.0], [254.5], [254.5], [254.5]],\n",
              "  ['Honda',\n",
              "   [130.0],\n",
              "   [167.67924528301887],\n",
              "   [167.67924528301887],\n",
              "   [167.67924528301887],\n",
              "   [167.67924528301887]]],\n",
              " 'Q7': [[(1984, 1988), 19.0],\n",
              "  [(1989, 1993), 18.0],\n",
              "  [(1994, 1998), 19.0],\n",
              "  [(1999, 2003), 19.0],\n",
              "  [(2004, 2008), 19.0],\n",
              "  [(2009, 2013), 21.0],\n",
              "  [(2014, 2018), 22.0],\n",
              "  [(2019, 2023), nan]]}"
            ]
          },
          "metadata": {},
          "execution_count": 45
        }
      ]
    },
    {
      "cell_type": "code",
      "source": [
        "import pickle\n",
        "\n",
        "file_name = \"EMMANUEL_ANYIRA_answers.pkl\"\n",
        "path = \"\"\n",
        "\n",
        "with open(path+file_name, 'wb') as f:\n",
        "    pickle.dump(answer_dict, f, protocol=pickle.HIGHEST_PROTOCOL)"
      ],
      "metadata": {
        "id": "gHR_ZnvoIQrv"
      },
      "execution_count": 46,
      "outputs": []
    }
  ]
}